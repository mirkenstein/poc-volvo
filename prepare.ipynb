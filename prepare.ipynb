{
 "cells": [
  {
   "cell_type": "markdown",
   "id": "eaff5723-beee-445e-8838-35667da9e018",
   "metadata": {},
   "source": [
    "# Vector Search and RAG function application based on SuperDuperDB"
   ]
  },
  {
   "cell_type": "code",
   "id": "4134fa4c-f166-4e88-b44b-cb3e92b0c6b5",
   "metadata": {},
   "source": [
    "import os\n",
    "import click\n",
    "from tqdm import tqdm\n",
    "\n",
    "import sentence_transformers\n",
    "from dotenv import load_dotenv\n",
    "from superduper import (\n",
    "    Document,\n",
    "    Listener,\n",
    "    model,ObjectModel,\n",
    "    Schema,\n",
    "    VectorIndex,\n",
    "    superduper,\n",
    "    vector\n",
    ")\n",
    "# from superduper.backends.mongodb import\n",
    "import superduper_mongodb\n",
    "load_dotenv()"
   ],
   "outputs": [],
   "execution_count": null
  },
  {
   "cell_type": "markdown",
   "id": "45bb7460-069d-4ab1-8781-7211b4a0258a",
   "metadata": {},
   "source": [
    "## Connect to mongodb database"
   ]
  },
  {
   "cell_type": "code",
   "id": "07e83996-c889-4596-9a27-487700412554",
   "metadata": {
    "ExecuteTime": {
     "end_time": "2024-09-03T20:24:49.592344Z",
     "start_time": "2024-09-03T20:24:49.562350Z"
    }
   },
   "source": [
    "mongodb_uri = os.getenv(\"MONGODB_URI\", \"superduperdb-demo\")\n",
    "artifact_store = os.getenv(\"ARTIFACT_STORE\", \"data/artifact_store\")\n",
    "\n",
    "db = superduper(mongodb_uri, artifact_store=f\"filesystem://{artifact_store}\")"
   ],
   "outputs": [
    {
     "name": "stdout",
     "output_type": "stream",
     "text": [
      "2024-Sep-03 15:24:49.58| INFO     | localhost.localdomain| superduper.base.build:56   | Data Client is ready. MongoClient(host=['localhost:27017'], document_class=dict, tz_aware=False, connect=True, serverselectiontimeoutms=5000)\n",
      "2024-Sep-03 15:24:49.58| INFO     | localhost.localdomain| superduper.base.build:35   | Connecting to Metadata Client with engine:  MongoClient(host=['localhost:27017'], document_class=dict, tz_aware=False, connect=True, serverselectiontimeoutms=5000)\n",
      "2024-Sep-03 15:24:49.58| INFO     | localhost.localdomain| superduper.backends.local.artifacts:29   | Creating artifact store directory\n",
      "2024-Sep-03 15:24:49.58| INFO     | localhost.localdomain| superduper.base.build:141  | Connecting to compute client: Compute(uri=None, compute_kwargs={}, _path='superduper.backends.local.compute.LocalComputeBackend')\n",
      "2024-Sep-03 15:24:49.58| INFO     | localhost.localdomain| superduper.base.datalayer:106  | Building Data Layer\n",
      "2024-Sep-03 15:24:49.59| INFO     | localhost.localdomain| superduper.base.build:208  | Configuration: \n",
      " +----------------+-------------------------------------+\n",
      "| Configuration  |                Value                |\n",
      "+----------------+-------------------------------------+\n",
      "|  Data Backend  | mongodb://localhost:27017/volvo_rag |\n",
      "| Artifact Store |  filesystem://data/volvo/artifacts  |\n",
      "+----------------+-------------------------------------+\n"
     ]
    }
   ],
   "execution_count": 2
  },
  {
   "metadata": {
    "ExecuteTime": {
     "end_time": "2024-09-03T20:24:54.640521Z",
     "start_time": "2024-09-03T20:24:54.631039Z"
    }
   },
   "cell_type": "code",
   "source": " db.show()",
   "id": "f218d6626e2b907b",
   "outputs": [
    {
     "data": {
      "text/plain": [
       "[]"
      ]
     },
     "execution_count": 3,
     "metadata": {},
     "output_type": "execute_result"
    }
   ],
   "execution_count": 3
  },
  {
   "cell_type": "markdown",
   "id": "00e41b23-247d-43fa-ac8b-3f4a28b0ff4c",
   "metadata": {},
   "source": "## Parse pdf files and store them in the database"
  },
  {
   "cell_type": "code",
   "id": "7e6c63e3-8a28-48e6-940a-a5e4bf8e24da",
   "metadata": {
    "ExecuteTime": {
     "end_time": "2024-09-03T20:25:31.488101Z",
     "start_time": "2024-09-03T20:24:59.377610Z"
    }
   },
   "source": [
    "from superduper.ext.unstructured.encoder import unstructured_encoder\n",
    "\n",
    "db.add(unstructured_encoder)\n",
    "\n",
    "pdf_folder = 'pdf-folders'\n",
    "\n",
    "pdf_paths = [os.path.join(pdf_folder, pdf) for pdf in os.listdir(pdf_folder)]\n",
    "# collection = superduper_mongodb(\"source\")\n",
    "to_insert = [\n",
    "    Document({\"elements\": unstructured_encoder(pdf_path)}) for pdf_path in pdf_paths\n",
    "]\n",
    "# db.execute(collection.insert_many(to_insert))\n",
    "# _ = db['source'].insert_many(to_insert).execute()\n",
    "db['source'].insert_many(to_insert).execute()"
   ],
   "outputs": [
    {
     "name": "stdout",
     "output_type": "stream",
     "text": [
      "2024-Sep-03 15:25:01.45| WARNING  | localhost.localdomain| superduper.misc.annotations:119  | add is deprecated and will be removed in a future release.\n",
      "2024-Sep-03 15:25:01.49| WARNING  | localhost.localdomain| superduper.base.document:390  | Leaf dill already exists\n",
      "2024-Sep-03 15:25:01.54| INFO     | localhost.localdomain| superduper.backends.mongodb.data_backend:226  | Table source does not exist, auto creating...\n",
      "2024-Sep-03 15:25:30.05| WARNING  | localhost.localdomain| superduper.base.document:390  | Leaf dill already exists\n",
      "2024-Sep-03 15:25:30.69| WARNING  | localhost.localdomain| superduper.base.document:390  | Leaf dill already exists\n",
      "2024-Sep-03 15:25:30.69| WARNING  | localhost.localdomain| superduper.backends.local.artifacts:82   | File data/volvo/artifacts/cdffb7007d5340d97c9ed98b15ab4da048dddc37 already exists\n",
      "2024-Sep-03 15:25:30.69| WARNING  | localhost.localdomain| superduper.backends.local.artifacts:82   | File data/volvo/artifacts/5f43436f588988dd524b44301f3dc556ac7a86b8 already exists\n",
      "2024-Sep-03 15:25:30.69| WARNING  | localhost.localdomain| superduper.backends.local.artifacts:82   | File data/volvo/artifacts/cdffb7007d5340d97c9ed98b15ab4da048dddc37 already exists\n",
      "2024-Sep-03 15:25:30.69| WARNING  | localhost.localdomain| superduper.backends.local.artifacts:82   | File data/volvo/artifacts/5f43436f588988dd524b44301f3dc556ac7a86b8 already exists\n"
     ]
    },
    {
     "data": {
      "text/plain": [
       "([ObjectId('66d770bb3016e6a40679dd3a'), ObjectId('66d770bb3016e6a40679dd3b')],\n",
       " None)"
      ]
     },
     "execution_count": 4,
     "metadata": {},
     "output_type": "execute_result"
    }
   ],
   "execution_count": 4
  },
  {
   "metadata": {},
   "cell_type": "code",
   "source": "db.show()",
   "id": "537828a217426d11",
   "outputs": [],
   "execution_count": null
  },
  {
   "metadata": {},
   "cell_type": "code",
   "source": "db['source'].find_one().execute().unpack()",
   "id": "8109d7c8b2e43da8",
   "outputs": [],
   "execution_count": null
  },
  {
   "cell_type": "markdown",
   "id": "5fc5d0eb-8b85-4f50-a6fb-951932d5e09b",
   "metadata": {},
   "source": [
    "## Create a chunking model to chunk pdf chunks"
   ]
  },
  {
   "metadata": {
    "ExecuteTime": {
     "end_time": "2024-09-03T20:25:58.273698Z",
     "start_time": "2024-09-03T20:25:58.255829Z"
    }
   },
   "cell_type": "code",
   "source": [
    "def merge_metadatas(metadatas, return_center=False):\n",
    "    MAX_NUM = 999999999\n",
    "    if not metadatas:\n",
    "        return {}\n",
    "    p1, p2, p3, p4 = (MAX_NUM, MAX_NUM), (MAX_NUM, 0), (0, 0), (0, MAX_NUM)\n",
    "    for metadata in metadatas:\n",
    "        p1_, p2_, p3_, p4_ = metadata[\"coordinates\"][\"points\"]\n",
    "        p1 = (min(p1[0], p1_[0]), min(p1[1], p1_[1]))\n",
    "        p2 = (min(p2[0], p2_[0]), max(p2[1], p2_[1]))\n",
    "        p3 = (max(p3[0], p3_[0]), max(p3[1], p3_[1]))\n",
    "        p4 = (max(p4[0], p4_[0]), min(p4[1], p4_[1]))\n",
    "    points = (p1, p2, p3, p4)\n",
    "    if return_center:\n",
    "        points = {\"x\": (p1[0] + p3[0]) / 2, \"y\": (p1[1] + p3[1]) / 2}\n",
    "        page_number = metadata[\"page_number\"]\n",
    "    return {\"points\": points, \"page_number\": page_number}\n",
    "\n",
    "\n",
    "def create_chunk_and_metadatas(page_elements, stride=3, window=10):\n",
    "    datas = []\n",
    "    for i in range(0, len(page_elements), stride):\n",
    "        windown_elements = page_elements[i : i + window]\n",
    "        metadatas = [e.metadata.to_dict() for e in windown_elements]\n",
    "        chunk = \"\\n\".join([e.text for e in windown_elements])\n",
    "        datas.append(\n",
    "            {\"txt\": chunk, \"metadata\": merge_metadatas(metadatas, return_center=True)}\n",
    "        )\n",
    "    return datas\n",
    "\n",
    "\n",
    "@model(flatten=True, model_update_kwargs={'document_embedded': False})\n",
    "def get_chunks(elements):\n",
    "    from collections import defaultdict\n",
    "\n",
    "    pages_elements = defaultdict(list)\n",
    "    for element in elements:\n",
    "        pages_elements[element.metadata.page_number].append(element)\n",
    "\n",
    "    all_chunks_and_links = sum(\n",
    "        [\n",
    "            create_chunk_and_metadatas(page_elements)\n",
    "            for _, page_elements in pages_elements.items()\n",
    "        ],\n",
    "        [],\n",
    "    )\n",
    "    return all_chunks_and_links\n"
   ],
   "id": "ea1ca929-e6b5-494a-b6e1-f709995128ef",
   "outputs": [],
   "execution_count": 5
  },
  {
   "metadata": {
    "ExecuteTime": {
     "end_time": "2024-09-03T20:31:12.135168Z",
     "start_time": "2024-09-03T20:31:09.021851Z"
    }
   },
   "cell_type": "code",
   "source": [
    "MODEL_IDENTIFIER_CHUNK = \"chunker\"\n",
    "upstream_listener= Listener(\n",
    "        model=get_chunks,\n",
    "        select=db['source'].select(),\n",
    "        key=\"elements\",\n",
    "        uuid=MODEL_IDENTIFIER_CHUNK,\n",
    "        identifier=MODEL_IDENTIFIER_CHUNK\n",
    ")\n",
    "db.apply(upstream_listener)"
   ],
   "id": "1a2dbd9844007331",
   "outputs": [
    {
     "name": "stdout",
     "output_type": "stream",
     "text": [
      "2024-Sep-03 15:31:09.67| INFO     | localhost.localdomain| superduper.jobs.queue:87   | Running jobs for listener.chunker with ids: [ObjectId('66d770bb3016e6a40679dd3a'), ObjectId('66d770bb3016e6a40679dd3b')]\n",
      "2024-Sep-03 15:31:09.72| INFO     | localhost.localdomain| superduper.backends.local.compute:58   | Submitting job. function:<function method_job at 0x7fea15414720>\n",
      "2024-Sep-03 15:31:09.72| INFO     | localhost.localdomain| superduper.components.model:672  | Requesting prediction in db - [get_chunks] with predict_id chunker\n",
      "Using select {'_base': '?source-find', '_builds': {'source-find': {'_path': 'superduper.backends.mongodb.query.parse_query', 'documents': [], 'query': 'source.find()'}}, '_blobs': {}, '_files': {}} and ids [ObjectId('66d770bb3016e6a40679dd3a'), ObjectId('66d770bb3016e6a40679dd3b')]\n",
      "2024-Sep-03 15:31:10.94| INFO     | localhost.localdomain| superduper.components.model:797  | Adding 2 model outputs to `db`\n",
      "2024-Sep-03 15:31:12.12| SUCCESS  | localhost.localdomain| superduper.backends.local.compute:64   | Job submitted on <superduper.backends.local.compute.LocalComputeBackend object at 0x7fe9f85cdb10>.  function:<function method_job at 0x7fea15414720> future:956ce8f8-7fea-4d82-bf00-9f7471740b56\n"
     ]
    },
    {
     "data": {
      "text/plain": [
       "(['listener.chunker'],\n",
       " Listener(identifier='chunker', uuid='chunker', upstream=None, plugins=None, key='elements', model=ObjectModel(identifier='get_chunks', uuid='fb0fdf5f-e514-425b-aaec-bfe2c6813dfa', upstream=None, plugins=None, signature='*args,**kwargs', datatype=None, output_schema=None, flatten=True, model_update_kwargs={'document_embedded': False}, predict_kwargs={}, compute_kwargs={}, validation=None, metric_values={}, num_workers=0, object=<function get_chunks at 0x7fe9c5d3d4e0>), select=source.find(), active=True, predict_kwargs={}))"
      ]
     },
     "execution_count": 6,
     "metadata": {},
     "output_type": "execute_result"
    }
   ],
   "execution_count": 6
  },
  {
   "metadata": {
    "ExecuteTime": {
     "end_time": "2024-09-03T20:31:16.969581Z",
     "start_time": "2024-09-03T20:31:16.962006Z"
    }
   },
   "cell_type": "code",
   "source": "db.show()",
   "id": "d320a7bd2a1e6027",
   "outputs": [
    {
     "data": {
      "text/plain": [
       "[{'type_id': 'datatype', 'identifier': 'unstructured'},\n",
       " {'type_id': 'listener', 'identifier': 'chunker'},\n",
       " {'type_id': 'model', 'identifier': 'get_chunks'}]"
      ]
     },
     "execution_count": 7,
     "metadata": {},
     "output_type": "execute_result"
    }
   ],
   "execution_count": 7
  },
  {
   "metadata": {
    "ExecuteTime": {
     "end_time": "2024-09-03T20:31:49.789695Z",
     "start_time": "2024-09-03T20:31:49.781252Z"
    }
   },
   "cell_type": "code",
   "source": [
    "upstream_listener.outputs_key\n",
    "# '_outputs.chunker'"
   ],
   "id": "5eb8340f4cb12d39",
   "outputs": [
    {
     "data": {
      "text/plain": [
       "'_outputs.chunker'"
      ]
     },
     "execution_count": 9,
     "metadata": {},
     "output_type": "execute_result"
    }
   ],
   "execution_count": 9
  },
  {
   "metadata": {
    "ExecuteTime": {
     "end_time": "2024-09-03T20:32:23.336824Z",
     "start_time": "2024-09-03T20:32:23.329019Z"
    }
   },
   "cell_type": "code",
   "source": [
    "  upstream_listener.outputs\n",
    "# '_outputs.chunker'"
   ],
   "id": "9eca695de5b3c2cb",
   "outputs": [
    {
     "data": {
      "text/plain": [
       "'_outputs.chunker'"
      ]
     },
     "execution_count": 10,
     "metadata": {},
     "output_type": "execute_result"
    }
   ],
   "execution_count": 10
  },
  {
   "metadata": {},
   "cell_type": "markdown",
   "source": "## Build text embedding model",
   "id": "82dc583311abda5a"
  },
  {
   "metadata": {},
   "cell_type": "code",
   "outputs": [],
   "execution_count": 11,
   "source": [
    "from superduper_sentence_transformers import SentenceTransformer\n",
    "# MODEL_IDENTIFIER_EMBEDDING = \"embedding-bge-large\"\n",
    "embedding_model_identifier = \"embedding-bge-large\"\n",
    "# Not in use\n",
    "def preprocess(x):\n",
    "    if isinstance(x, dict):\n",
    "        # For model chains, the logic of this key needs to be optimized.\n",
    "        chunk = sorted(x.items())[-1][1]\n",
    "        return chunk[\"txt\"]\n",
    "    return x\n",
    "\n",
    "embedding_model = SentenceTransformer(\n",
    "    identifier=embedding_model_identifier,\n",
    "    object=sentence_transformers.SentenceTransformer(\"BAAI/bge-large-en-v1.5\", device=\"cuda\"),\n",
    "    datatype=vector(shape=(1024,)),\n",
    "    device=\"cuda\",\n",
    "    postprocess=lambda x: x.tolist(),\n",
    "    # preprocess = preprocess,\n",
    "    predict_kwargs={\"show_progress_bar\": True},\n",
    ")"
   ],
   "id": "ce62a2107a5a7913"
  },
  {
   "metadata": {},
   "cell_type": "code",
   "outputs": [
    {
     "data": {
      "text/plain": [
       "Batches:   0%|          | 0/1 [00:00<?, ?it/s]"
      ],
      "application/vnd.jupyter.widget-view+json": {
       "version_major": 2,
       "version_minor": 0,
       "model_id": "e953ee484a1245569876f6ef934cf71d"
      }
     },
     "metadata": {},
     "output_type": "display_data"
    },
    {
     "name": "stdout",
     "output_type": "stream",
     "text": [
      "1024\n"
     ]
    }
   ],
   "execution_count": 12,
   "source": "print(len(embedding_model.predict(\"What is superduper\")))",
   "id": "3e77fcc0bf260168"
  },
  {
   "metadata": {},
   "cell_type": "markdown",
   "source": "",
   "id": "71c3f577c69f3f7d"
  },
  {
   "metadata": {},
   "cell_type": "markdown",
   "source": "## Create Vector Index",
   "id": "fc02e67a1902cc9b"
  },
  {
   "metadata": {},
   "cell_type": "code",
   "outputs": [],
   "execution_count": 14,
   "source": [
    "from superduper import VectorIndex, Listener\n",
    "# VECTOR_INDEX_IDENTIFIER = \"vector-index\"\n",
    "vector_index_name = 'vector-index'\n",
    "indexing_key =  upstream_listener.outputs\n",
    "# '_outputs.chunker'\n",
    "vector_index = \\\n",
    "    VectorIndex(\n",
    "        vector_index_name,\n",
    "        indexing_listener=Listener(\n",
    "            key=indexing_key,\n",
    "            select=db[indexing_key].select(),\n",
    "            model=embedding_model,\n",
    "            uuid=\"embedding-bge-large\",\n",
    "            identifier=\"embedding-bge-large-listener\"\n",
    "        )\n",
    "    )"
   ],
   "id": "3f2c682d372312cc"
  },
  {
   "metadata": {},
   "cell_type": "markdown",
   "source": "## Vector Search Function",
   "id": "fc7e2bcac0092bf8"
  },
  {
   "metadata": {},
   "cell_type": "code",
   "outputs": [],
   "execution_count": 50,
   "source": [
    "from pprint import pprint\n",
    "def vector_search(query, top_k=5):\n",
    "    chunk_collection = db[indexing_key]\n",
    "    item = Document({'_outputs.chunker': query})\n",
    "    out = db.execute(\n",
    "        chunk_collection.like(\n",
    "            item, \n",
    "            vector_index=vector_index_name,\n",
    "            n=top_k,\n",
    "        ).select({})\n",
    "    )\n",
    "    # print(out)\n",
    "\n",
    "    if out:\n",
    "        out = sorted(out, key=lambda x: x['score'], reverse=True)\n",
    "    for r in out:\n",
    "        score = r[\"score\"]\n",
    "    #     # chunk_data = r.outputs(\"elements\", \"chunk\")\n",
    "        chunk_data = r['_outputs.chunker'] # upstream_listener.outputs_key\n",
    "        metadata = chunk_data[\"metadata\"]\n",
    "        chunk_message = {}\n",
    "        chunk_message[\"score\"] = score\n",
    "        chunk_message[\"metadata\"] = metadata\n",
    "        txt = chunk_data[\"txt\"]\n",
    "        print(txt)\n",
    "        print()\n",
    "        print(chunk_message)\n",
    "        print(\"\\n\\n\", '-' * 20)"
   ],
   "id": "b32cfd64-3e75-418c-9a85-355d87ccb501"
  },
  {
   "metadata": {
    "ExecuteTime": {
     "end_time": "2024-09-05T15:46:55.573897Z",
     "start_time": "2024-09-05T15:46:55.475666Z"
    }
   },
   "cell_type": "code",
   "source": [
    "MODEL_IDENTIFIER_CHUNK = \"chunker\"\n",
    "COLLECTION_NAME_CHUNK = f\"_outputs.{MODEL_IDENTIFIER_CHUNK}\"\n",
    "CHUNK_OUTPUT_KEY = f\"_outputs.{MODEL_IDENTIFIER_CHUNK}\"\n",
    "VECTOR_INDEX_IDENTIFIER = \"vector-index\"\n",
    "vector_search_top_k=3\n",
    "query=\"What is the function of keys 10 to 12 on the left steering wheel keypad?\"\n",
    "collection = db[COLLECTION_NAME_CHUNK]\n",
    "out = db.execute(collection.like(\n",
    "            Document({CHUNK_OUTPUT_KEY: query}),\n",
    "            vector_index=VECTOR_INDEX_IDENTIFIER,\n",
    "            n=vector_search_top_k,\n",
    "        ).select({}))\n",
    "for r in out:\n",
    "    chunk_data = r['_outputs.chunker']\n",
    "    print(chunk_data)"
   ],
   "id": "1c99f4e31e18ae3a",
   "outputs": [
    {
     "name": "stdout",
     "output_type": "stream",
     "text": [
      "2024-Sep-05 10:46:55.48| INFO     | localhost.localdomain| superduper.base.datalayer:905  | {}\n"
     ]
    },
    {
     "data": {
      "text/plain": [
       "Batches:   0%|          | 0/1 [00:00<?, ?it/s]"
      ],
      "application/vnd.jupyter.widget-view+json": {
       "version_major": 2,
       "version_minor": 0,
       "model_id": "369ddf7319dd4cd0870763428073105a"
      }
     },
     "metadata": {},
     "output_type": "display_data"
    },
    {
     "name": "stdout",
     "output_type": "stream",
     "text": [
      "{'txt': 'wheel is locked in its new position.\\nSteering wheel keypads\\nLeft-hand keypad\\nKeys 10 to 12 control the audio in the truck. The others control cruise control or adaptive cruise control. The function of each key is the following:\\n1 Resume the previously set speed.\\n2 Increase speed.\\n3 Decrease speed.\\n4 Select current speed as set speed.\\n5 Switch off cruise control or adaptive\\ncruise control.', 'metadata': {'points': {'x': 388.781385, 'y': 218.15015499999998}, 'page_number': 88}}\n",
      "{'txt': 'NOTE\\nFor the sake of road safety, it is advised that you primarily use voice control (if available) or the steering wheel keypads when driving.\\nSteering wheel keypads\\nKeys 10 and 11 are used for phone calls. The others are used for navigating in the displays and controlling the infotainment system. The function of each key is the following:\\n1 Navigate left.\\nAA 338361\\n2 Navigate up.\\n3 Navigate right.\\n4 Navigate down.\\n5 Select.', 'metadata': {'points': {'x': 169.35586999999998, 'y': 225.92667}, 'page_number': 267}}\n",
      "{'txt': 'Keys 10 and 11 are used for phone calls. The others are used for navigating in the displays and controlling the infotainment system. The function of each key is the following:\\n1 Navigate left.\\nAA 338361\\n2 Navigate up.\\n3 Navigate right.\\n4 Navigate down.\\n5 Select.\\n6 Return to the home screen.\\n7 Open a menu.\\n8 Back.', 'metadata': {'points': {'x': 191.64962, 'y': 225.92667}, 'page_number': 267}}\n"
     ]
    }
   ],
   "execution_count": 234
  },
  {
   "metadata": {
    "ExecuteTime": {
     "end_time": "2024-09-05T13:23:11.040061Z",
     "start_time": "2024-09-05T13:23:11.036135Z"
    }
   },
   "cell_type": "code",
   "source": "print(vector_index_name)",
   "id": "10e76773d4d53149",
   "outputs": [
    {
     "name": "stdout",
     "output_type": "stream",
     "text": [
      "vector-index\n"
     ]
    }
   ],
   "execution_count": 206
  },
  {
   "metadata": {},
   "cell_type": "code",
   "outputs": [],
   "execution_count": null,
   "source": [
    "from superduper import Application\n",
    "\n",
    "search_application = Application(\n",
    "    'text-vector-search', \n",
    "    components=[\n",
    "        upstream_listener,\n",
    "        vector_index,\n",
    "    ]\n",
    ")\n",
    "db.apply(search_application)"
   ],
   "id": "aa58862887ff3eb7"
  },
  {
   "metadata": {},
   "cell_type": "code",
   "outputs": [
    {
     "data": {
      "text/plain": [
       "['_parent_child_mappings', '_jobs', 'source', '_objects', '_outputs.chunker']"
      ]
     },
     "execution_count": 17,
     "metadata": {},
     "output_type": "execute_result"
    }
   ],
   "execution_count": 17,
   "source": "db.databackend.db.list_collection_names() ",
   "id": "ed39d700d5d16b65"
  },
  {
   "metadata": {},
   "cell_type": "code",
   "outputs": [
    {
     "data": {
      "text/plain": [
       "[{'type_id': 'application', 'identifier': 'text-vector-search'},\n",
       " {'type_id': 'datatype', 'identifier': 'unstructured'},\n",
       " {'type_id': 'listener', 'identifier': 'chunker'},\n",
       " {'type_id': 'listener', 'identifier': 'embedding-bge-large'},\n",
       " {'type_id': 'model', 'identifier': 'embedding-bge-large'},\n",
       " {'type_id': 'model', 'identifier': 'get_chunks'},\n",
       " {'type_id': 'vector_index', 'identifier': 'vector-index'}]"
      ]
     },
     "execution_count": 18,
     "metadata": {},
     "output_type": "execute_result"
    }
   ],
   "execution_count": 18,
   "source": "db.show()",
   "id": "811d6d09a1d01c60"
  },
  {
   "metadata": {},
   "cell_type": "markdown",
   "source": "## Embedding all text blocks and building vector indexes",
   "id": "a93c7cfe663ad1fc"
  },
  {
   "metadata": {},
   "cell_type": "code",
   "source": [
    "# indexing_key =  upstream_listener.outputs\n",
    "# '_outputs.chunker'\n",
    "# COLLECTION_NAME_CHUNK ='_outputs.chunker'\n",
    "db[indexing_key].find_one().execute().unpack()\n"
   ],
   "id": "db1160c2c3e248c",
   "outputs": [],
   "execution_count": null
  },
  {
   "metadata": {},
   "cell_type": "markdown",
   "source": "## Define a vector search function",
   "id": "fb739534-25f4-48b8-b626-fbbd3049ec9d"
  },
  {
   "cell_type": "code",
   "id": "27ab83ac-cfcc-43b2-9ca3-004415acb0f5",
   "metadata": {
    "ExecuteTime": {
     "end_time": "2024-09-05T01:53:02.241408Z",
     "start_time": "2024-09-05T01:53:02.168576Z"
    }
   },
   "source": "vector_search(\"What is the function of keys 10 to 12 on the left steering wheel keypad?\")",
   "outputs": [
    {
     "name": "stdout",
     "output_type": "stream",
     "text": [
      "2024-Sep-04 20:53:02.17| INFO     | localhost.localdomain| superduper.base.datalayer:905  | {}\n"
     ]
    },
    {
     "data": {
      "text/plain": [
       "Batches:   0%|          | 0/1 [00:00<?, ?it/s]"
      ],
      "application/vnd.jupyter.widget-view+json": {
       "version_major": 2,
       "version_minor": 0,
       "model_id": "113b0b12944545f780a7fd7d0f0e6971"
      }
     },
     "metadata": {},
     "output_type": "display_data"
    },
    {
     "name": "stdout",
     "output_type": "stream",
     "text": [
      "NOTE\n",
      "For the sake of road safety, it is advised that you primarily use voice control (if available) or the steering wheel keypads when driving.\n",
      "Steering wheel keypads\n",
      "Keys 10 and 11 are used for phone calls. The others are used for navigating in the displays and controlling the infotainment system. The function of each key is the following:\n",
      "1 Navigate left.\n",
      "AA 338361\n",
      "2 Navigate up.\n",
      "3 Navigate right.\n",
      "4 Navigate down.\n",
      "5 Select.\n",
      "\n",
      "{'score': 0.8308685339539639, 'metadata': {'points': {'x': 169.35586999999998, 'y': 225.92667}, 'page_number': 267}}\n",
      "\n",
      "\n",
      " --------------------\n",
      "wheel is locked in its new position.\n",
      "Steering wheel keypads\n",
      "Left-hand keypad\n",
      "Keys 10 to 12 control the audio in the truck. The others control cruise control or adaptive cruise control. The function of each key is the following:\n",
      "1 Resume the previously set speed.\n",
      "2 Increase speed.\n",
      "3 Decrease speed.\n",
      "4 Select current speed as set speed.\n",
      "5 Switch off cruise control or adaptive\n",
      "cruise control.\n",
      "\n",
      "{'score': 0.7987961896635563, 'metadata': {'points': {'x': 388.781385, 'y': 218.15015499999998}, 'page_number': 88}}\n",
      "\n",
      "\n",
      " --------------------\n",
      "Keys 10 and 11 are used for phone calls. The others are used for navigating in the displays and controlling the infotainment system. The function of each key is the following:\n",
      "1 Navigate left.\n",
      "AA 338361\n",
      "2 Navigate up.\n",
      "3 Navigate right.\n",
      "4 Navigate down.\n",
      "5 Select.\n",
      "6 Return to the home screen.\n",
      "7 Open a menu.\n",
      "8 Back.\n",
      "\n",
      "{'score': 0.786557969393868, 'metadata': {'points': {'x': 191.64962, 'y': 225.92667}, 'page_number': 267}}\n",
      "\n",
      "\n",
      " --------------------\n",
      "4 Depress the pedal (1) a small\n",
      "distance, and adjust the angle of the steering wheel.\n",
      "5 Release the pedal. The steering\n",
      "wheel is locked in its new position.\n",
      "Steering wheel keypads\n",
      "Left-hand keypad\n",
      "Keys 10 to 12 control the audio in the truck. The others control cruise control or adaptive cruise control. The function of each key is the following:\n",
      "1 Resume the previously set speed.\n",
      "2 Increase speed.\n",
      "3 Decrease speed.\n",
      "\n",
      "{'score': 0.7850211625334125, 'metadata': {'points': {'x': 379.85684499999996, 'y': 198.238195}, 'page_number': 88}}\n",
      "\n",
      "\n",
      " --------------------\n",
      "10 Mute.\n",
      "11 Reduce volume.\n",
      "12 Increase volume.\n",
      "Right-hand keypad\n",
      "Keys 10 and 11 are used for phone calls. The others are used for navigating in the\n",
      "AA 338361\n",
      "displays and controlling the infotainment system. The function of each key is the following:\n",
      "1 Navigate left.\n",
      "2 Navigate up.\n",
      "3 Navigate right.\n",
      "\n",
      "{'score': 0.7769413545066155, 'metadata': {'points': {'x': 210.55261000000002, 'y': 225.92667}, 'page_number': 89}}\n",
      "\n",
      "\n",
      " --------------------\n"
     ]
    }
   ],
   "execution_count": 205
  },
  {
   "metadata": {},
   "cell_type": "markdown",
   "source": "## Define LLM Model from Anthropic and test it",
   "id": "2e5a05992e25900f"
  },
  {
   "metadata": {
    "ExecuteTime": {
     "end_time": "2024-09-05T13:33:18.444870Z",
     "start_time": "2024-09-05T13:33:17.351634Z"
    }
   },
   "cell_type": "code",
   "source": [
    "from superduper_anthropic import AnthropicCompletions\n",
    "# import os\n",
    "#os.environ[\"ANTHROPIC_API_KEY\"] = \"\"\n",
    "predict_kwargs = {\n",
    "    \"max_tokens\": 1024,\n",
    "    \"temperature\": 0.8,\n",
    "}\n",
    "\n",
    "llm = AnthropicCompletions(identifier='llm', model='claude-2.1', predict_kwargs=predict_kwargs)\n",
    "llm.predict(\"Tell me a joke\")"
   ],
   "id": "f8486776302889d8",
   "outputs": [
    {
     "data": {
      "text/plain": [
       "\"Why can't a bicycle stand up by itself? Because it's two-tired!\""
      ]
     },
     "execution_count": 207,
     "metadata": {},
     "output_type": "execute_result"
    }
   ],
   "execution_count": 207
  },
  {
   "metadata": {
    "ExecuteTime": {
     "end_time": "2024-09-05T13:33:28.340125Z",
     "start_time": "2024-09-05T13:33:28.331425Z"
    }
   },
   "cell_type": "code",
   "source": "db.apply(llm)",
   "id": "8d2b85543763132d",
   "outputs": [
    {
     "data": {
      "text/plain": [
       "([],\n",
       " AnthropicCompletions(identifier='llm', uuid='da79d286-5cd3-4d9f-b624-2c56725b9599', upstream=None, plugins=None, signature='*args,**kwargs', datatype=None, output_schema=None, flatten=False, model_update_kwargs={}, predict_kwargs={'max_tokens': 1024, 'temperature': 0.8}, compute_kwargs={}, validation=None, metric_values={}, num_workers=0, model='claude-2.1', max_batch_size=8, client_kwargs={}, prompt=''))"
      ]
     },
     "execution_count": 208,
     "metadata": {},
     "output_type": "execute_result"
    }
   ],
   "execution_count": 208
  },
  {
   "metadata": {},
   "cell_type": "markdown",
   "source": "## Approach with RAG Graph",
   "id": "75ef842a9581b359"
  },
  {
   "metadata": {
    "ExecuteTime": {
     "end_time": "2024-09-04T05:38:22.249693Z",
     "start_time": "2024-09-04T05:38:22.234924Z"
    }
   },
   "cell_type": "code",
   "source": [
    "# Approach with RAG Graph\n",
    "from superduper import model\n",
    "from superduper.components.graph import Graph, input_node\n",
    "\n",
    "prompt_template = (\n",
    "    \"The following is a document and question about the volvo user manual\\n\"\n",
    "    \"Only provide a very concise answer\\n\"\n",
    "    \"{context}\\n\\n\"\n",
    "    \"Here's the question:{input}\\n\"\n",
    "    \"answer:\"\n",
    ")\n",
    " \n",
    "@model\n",
    "def build_prompt(query, docs):\n",
    "    # print(docs[0][\"text\"][\"txt\"])\n",
    "    chunks = [doc[\"text\"][\"txt\"] for doc in docs]\n",
    "    context = \"\\n\\n\".join(chunks)\n",
    "    prompt = prompt_template.format(context=context, input=query)\n",
    "    return prompt\n",
    "\n",
    "from superduper.components.model import QueryModel\n",
    "chunk_collection = db[indexing_key]\n",
    "# query= \"What is the function of keys 10 to 12 on the left steering wheel keypad?\"\n",
    "top_k=5\n",
    "# item = Document({'_outputs.chunker': query})\n",
    "item = {'_outputs.chunker': '<var:query>'}\n",
    "# indexing_key = '_outputs.chunker\n",
    "vector_search_model = QueryModel(\n",
    "    identifier=\"VectorSearch\",\n",
    "    select=chunk_collection.like(\n",
    "        item, \n",
    "        vector_index=vector_index_name, \n",
    "        n=top_k\n",
    "    ).select(),\n",
    "    # The _source is the identifier of the upstream data, which can be used to locate the data from upstream sources using `_source`.\n",
    "    postprocess=lambda docs: [{\"text\": doc['_outputs.chunker'], \"_source\": doc[\"_source\"],\"score\": doc[\"score\"]} for doc in docs],\n",
    "    db=db\n",
    ")\n",
    "# We build a graph to handle the entire pipeline\n",
    "\n",
    "# create a input node, only have one input parameter `query`\n",
    "in_ = input_node('query')\n",
    "# pass the query to the vector search model\n",
    "vector_search_results = vector_search_model(query=in_)\n",
    "# pass the query and the search results to the prompt builder\n",
    "prompt = build_prompt(query=in_, docs=vector_search_results)\n",
    "# pass the prompt to the llm model\n",
    "answer = llm(prompt)\n",
    "# create a graph, and the graph output is the answer\n",
    "rag = answer.to_graph(\"rag\")"
   ],
   "id": "ca1595c73e33034c",
   "outputs": [],
   "execution_count": 172
  },
  {
   "metadata": {
    "ExecuteTime": {
     "end_time": "2024-09-05T15:37:37.361545Z",
     "start_time": "2024-09-05T15:37:37.274547Z"
    }
   },
   "cell_type": "code",
   "source": "vector_search_results(query)",
   "id": "ef9049bee8216abc",
   "outputs": [
    {
     "ename": "AttributeError",
     "evalue": "'str' object has no attribute 'value'",
     "output_type": "error",
     "traceback": [
      "\u001B[0;31m---------------------------------------------------------------------------\u001B[0m",
      "\u001B[0;31mAttributeError\u001B[0m                            Traceback (most recent call last)",
      "Cell \u001B[0;32mIn[228], line 1\u001B[0m\n\u001B[0;32m----> 1\u001B[0m \u001B[43mvector_search_model\u001B[49m\u001B[43m(\u001B[49m\u001B[43mquery\u001B[49m\u001B[43m)\u001B[49m\n",
      "File \u001B[0;32m~/PycharmProjects/poc-volvo/.venv/lib/python3.11/site-packages/superduper/components/model.py:901\u001B[0m, in \u001B[0;36mModel.__call__\u001B[0;34m(self, outputs, *args, **kwargs)\u001B[0m\n\u001B[1;32m    898\u001B[0m \u001B[38;5;28;01mfrom\u001B[39;00m \u001B[38;5;21;01msuperduper\u001B[39;00m\u001B[38;5;21;01m.\u001B[39;00m\u001B[38;5;21;01mcomponents\u001B[39;00m\u001B[38;5;21;01m.\u001B[39;00m\u001B[38;5;21;01mgraph\u001B[39;00m \u001B[38;5;28;01mimport\u001B[39;00m IndexableNode\n\u001B[1;32m    900\u001B[0m \u001B[38;5;28;01mif\u001B[39;00m args:\n\u001B[0;32m--> 901\u001B[0m     predict_params \u001B[38;5;241m=\u001B[39m \u001B[38;5;28;43mself\u001B[39;49m\u001B[38;5;241;43m.\u001B[39;49m\u001B[43minputs\u001B[49m\n\u001B[1;32m    902\u001B[0m     \u001B[38;5;28;01massert\u001B[39;00m \u001B[38;5;28mlen\u001B[39m(args) \u001B[38;5;241m<\u001B[39m\u001B[38;5;241m=\u001B[39m \u001B[38;5;28mlen\u001B[39m(predict_params), \u001B[38;5;124m'\u001B[39m\u001B[38;5;124mToo many arguments\u001B[39m\u001B[38;5;124m'\u001B[39m\n\u001B[1;32m    903\u001B[0m     \u001B[38;5;28;01mfor\u001B[39;00m i, arg \u001B[38;5;129;01min\u001B[39;00m \u001B[38;5;28menumerate\u001B[39m(args):\n",
      "File \u001B[0;32m~/PycharmProjects/poc-volvo/.venv/lib/python3.11/site-packages/superduper/components/model.py:1262\u001B[0m, in \u001B[0;36mQueryModel.inputs\u001B[0;34m(self)\u001B[0m\n\u001B[1;32m   1260\u001B[0m \u001B[38;5;28;01mif\u001B[39;00m \u001B[38;5;28mself\u001B[39m\u001B[38;5;241m.\u001B[39mpreprocess \u001B[38;5;129;01mis\u001B[39;00m \u001B[38;5;129;01mnot\u001B[39;00m \u001B[38;5;28;01mNone\u001B[39;00m:\n\u001B[1;32m   1261\u001B[0m     \u001B[38;5;28;01mreturn\u001B[39;00m CallableInputs(\u001B[38;5;28mself\u001B[39m\u001B[38;5;241m.\u001B[39mpreprocess)\n\u001B[0;32m-> 1262\u001B[0m \u001B[38;5;28;01mreturn\u001B[39;00m Inputs(\u001B[43m[\u001B[49m\u001B[43mx\u001B[49m\u001B[38;5;241;43m.\u001B[39;49m\u001B[43mvalue\u001B[49m\u001B[43m \u001B[49m\u001B[38;5;28;43;01mfor\u001B[39;49;00m\u001B[43m \u001B[49m\u001B[43mx\u001B[49m\u001B[43m \u001B[49m\u001B[38;5;129;43;01min\u001B[39;49;00m\u001B[43m \u001B[49m\u001B[38;5;28;43mself\u001B[39;49m\u001B[38;5;241;43m.\u001B[39;49m\u001B[43mselect\u001B[49m\u001B[38;5;241;43m.\u001B[39;49m\u001B[43mvariables\u001B[49m\u001B[43m]\u001B[49m)\n",
      "File \u001B[0;32m~/PycharmProjects/poc-volvo/.venv/lib/python3.11/site-packages/superduper/components/model.py:1262\u001B[0m, in \u001B[0;36m<listcomp>\u001B[0;34m(.0)\u001B[0m\n\u001B[1;32m   1260\u001B[0m \u001B[38;5;28;01mif\u001B[39;00m \u001B[38;5;28mself\u001B[39m\u001B[38;5;241m.\u001B[39mpreprocess \u001B[38;5;129;01mis\u001B[39;00m \u001B[38;5;129;01mnot\u001B[39;00m \u001B[38;5;28;01mNone\u001B[39;00m:\n\u001B[1;32m   1261\u001B[0m     \u001B[38;5;28;01mreturn\u001B[39;00m CallableInputs(\u001B[38;5;28mself\u001B[39m\u001B[38;5;241m.\u001B[39mpreprocess)\n\u001B[0;32m-> 1262\u001B[0m \u001B[38;5;28;01mreturn\u001B[39;00m Inputs([\u001B[43mx\u001B[49m\u001B[38;5;241;43m.\u001B[39;49m\u001B[43mvalue\u001B[49m \u001B[38;5;28;01mfor\u001B[39;00m x \u001B[38;5;129;01min\u001B[39;00m \u001B[38;5;28mself\u001B[39m\u001B[38;5;241m.\u001B[39mselect\u001B[38;5;241m.\u001B[39mvariables])\n",
      "\u001B[0;31mAttributeError\u001B[0m: 'str' object has no attribute 'value'"
     ]
    }
   ],
   "execution_count": 228
  },
  {
   "metadata": {},
   "cell_type": "code",
   "source": [
    "loaded_llm=db.load(\"model\",\"llm\")\n",
    "query= \"What is the function of keys 10 to 12 on the left steering wheel keypad?\"\n",
    "context=vector_search_model.predict(query=query)\n",
    "loaded_llm.predict(query,context)"
   ],
   "id": "bef087216aac44bf",
   "outputs": [],
   "execution_count": null
  },
  {
   "metadata": {},
   "cell_type": "code",
   "source": [
    "query= \"What is the function of keys 10 to 12 on the left steering wheel keypad?\"\n",
    "vector_search_model.predict(query=query)"
   ],
   "id": "932b410d3626bed5",
   "outputs": [],
   "execution_count": null
  },
  {
   "metadata": {},
   "cell_type": "code",
   "source": [
    "db.show()\n",
    "# [{'type_id': 'application', 'identifier': 'rag-app'},\n",
    "#  {'type_id': 'application', 'identifier': 'text-vector-search'},\n",
    "#  {'type_id': 'datatype', 'identifier': 'unstructured'},\n",
    "#  {'type_id': 'listener', 'identifier': 'chunker'},\n",
    "#  {'type_id': 'listener', 'identifier': 'embedding-bge-large'},\n",
    "#  {'type_id': 'model', 'identifier': 'VectorSearch'},\n",
    "#  {'type_id': 'model', 'identifier': '_input'},\n",
    "#  {'type_id': 'model', 'identifier': 'build_prompt'},\n",
    "#  {'type_id': 'model', 'identifier': 'embedding-bge-large'},\n",
    "#  {'type_id': 'model', 'identifier': 'get_chunks'},\n",
    "#  {'type_id': 'model', 'identifier': 'llm'},\n",
    "#  {'type_id': 'model', 'identifier': 'rag'},\n",
    "#  {'type_id': 'vector_index', 'identifier': 'vector-index'}]"
   ],
   "id": "5f721ef29be84707",
   "outputs": [],
   "execution_count": null
  },
  {
   "metadata": {},
   "cell_type": "code",
   "source": [
    "from superduper import Application\n",
    "\n",
    "app = Application(\n",
    "    'rag-app',\n",
    "    components=[\n",
    "        upstream_listener,\n",
    "        vector_index,\n",
    "        vector_search_model,\n",
    "        rag,\n",
    "    ]\n",
    ")\n",
    "\n",
    "db.apply(app)"
   ],
   "id": "b15ae77f80e3e9f7",
   "outputs": [],
   "execution_count": null
  },
  {
   "metadata": {
    "ExecuteTime": {
     "end_time": "2024-09-03T22:26:13.265045Z",
     "start_time": "2024-09-03T22:26:13.256359Z"
    }
   },
   "cell_type": "code",
   "source": "db.databackend.db.list_collection_names() \n",
   "id": "7a89fc4bfaa76a71",
   "outputs": [
    {
     "data": {
      "text/plain": [
       "['_parent_child_mappings', '_jobs', 'source', '_objects', '_outputs.chunker']"
      ]
     },
     "execution_count": 41,
     "metadata": {},
     "output_type": "execute_result"
    }
   ],
   "execution_count": 41
  },
  {
   "metadata": {
    "ExecuteTime": {
     "end_time": "2024-09-05T15:42:37.650134Z",
     "start_time": "2024-09-05T15:42:37.564644Z"
    }
   },
   "cell_type": "code",
   "source": "",
   "id": "dd371c6d2ed5d249",
   "outputs": [
    {
     "name": "stdout",
     "output_type": "stream",
     "text": [
      "2024-Sep-05 10:42:37.57| INFO     | localhost.localdomain| superduper.base.datalayer:905  | {}\n"
     ]
    },
    {
     "data": {
      "text/plain": [
       "Batches:   0%|          | 0/1 [00:00<?, ?it/s]"
      ],
      "application/vnd.jupyter.widget-view+json": {
       "version_major": 2,
       "version_minor": 0,
       "model_id": "80c6e38374fe4b9e9cd23c34f6cd2579"
      }
     },
     "metadata": {},
     "output_type": "display_data"
    },
    {
     "name": "stdout",
     "output_type": "stream",
     "text": [
      "SuperDuperCursor(raw_cursor=<pymongo.cursor.Cursor object at 0x7fe98b43f4d0>,\n",
      "                 id_field='_id',\n",
      "                 db=<superduper.base.datalayer.Datalayer object at 0x7fe9fba9bb90>,\n",
      "                 scores={'66d772103016e6a40679df5b': 0.7987961896635563,\n",
      "                         '66d772103016e6a40679e628': 0.8308685339539639,\n",
      "                         '66d772103016e6a40679e629': 0.786557969393868},\n",
      "                 schema=None,\n",
      "                 _it=0)\n"
     ]
    }
   ],
   "execution_count": 231
  },
  {
   "cell_type": "code",
   "id": "b9af14cc-b878-43d4-8cba-eab8786d2186",
   "metadata": {
    "ExecuteTime": {
     "end_time": "2024-09-05T15:24:51.090102Z",
     "start_time": "2024-09-05T15:24:51.083927Z"
    }
   },
   "source": [
    "from IPython.display import Markdown\n",
    "from IPython.display import display\n",
    "import pandas as pd\n",
    "MODEL_IDENTIFIER_CHUNK = \"chunker\"\n",
    "COLLECTION_NAME_CHUNK = f\"_outputs.{MODEL_IDENTIFIER_CHUNK}\"\n",
    "CHUNK_OUTPUT_KEY = f\"_outputs.{MODEL_IDENTIFIER_CHUNK}\"\n",
    "VECTOR_INDEX_IDENTIFIER = \"vector-index\"\n",
    "\n",
    "vector_index_name=\"vector_index\"\n",
    "def qa(query, vector_search_top_k=5):\n",
    "    collection = db[COLLECTION_NAME_CHUNK]\n",
    "    output, out = db.load(\"model\",\"llm\").predict(\n",
    "        query,\n",
    "        context=collection.like(\n",
    "            Document({CHUNK_OUTPUT_KEY: query}),\n",
    "            vector_index=VECTOR_INDEX_IDENTIFIER,\n",
    "            n=vector_search_top_k,\n",
    "        ).find({}),\n",
    "        # context_key=f\"{CHUNK_OUTPUT_KEY}.0.txt\",\n",
    "    )\n",
    "    if out:\n",
    "        out = sorted(out, key=lambda x: x['score'], reverse=True)\n",
    "    page_messages = []\n",
    "    for source in out:\n",
    "    #     # chunk_data = source.outputs(\"elements\", \"chunk\")\n",
    "        chunk_data = source['_outputs.chunker'] # upstream_listener.outputs_key\n",
    "        metadata = chunk_data[\"metadata\"]\n",
    "        page_number = metadata[\"page_number\"]\n",
    "        points = metadata[\"points\"]\n",
    "        score = source[\"score\"]\n",
    "        page_messages.append(\n",
    "            {\"page_number\": page_number, \"points\": points, \"score\": score}\n",
    "        )\n",
    "    print(page_messages)\n",
    "    # df = pd.DataFrame(page_messages)\n",
    "    # display(output.content)\n",
    "    # display(df)"
   ],
   "outputs": [],
   "execution_count": 220
  },
  {
   "metadata": {
    "ExecuteTime": {
     "end_time": "2024-09-05T15:24:58.983222Z",
     "start_time": "2024-09-05T15:24:53.772031Z"
    }
   },
   "cell_type": "code",
   "source": "qa(query,vector_search_top_k=3)",
   "id": "c9082fdc2bfee810",
   "outputs": [
    {
     "ename": "ValueError",
     "evalue": "too many values to unpack (expected 2)",
     "output_type": "error",
     "traceback": [
      "\u001B[0;31m---------------------------------------------------------------------------\u001B[0m",
      "\u001B[0;31mValueError\u001B[0m                                Traceback (most recent call last)",
      "Cell \u001B[0;32mIn[221], line 1\u001B[0m\n\u001B[0;32m----> 1\u001B[0m \u001B[43mqa\u001B[49m\u001B[43m(\u001B[49m\u001B[43mquery\u001B[49m\u001B[43m,\u001B[49m\u001B[43mvector_search_top_k\u001B[49m\u001B[38;5;241;43m=\u001B[39;49m\u001B[38;5;241;43m3\u001B[39;49m\u001B[43m)\u001B[49m\n",
      "Cell \u001B[0;32mIn[220], line 12\u001B[0m, in \u001B[0;36mqa\u001B[0;34m(query, vector_search_top_k)\u001B[0m\n\u001B[1;32m     10\u001B[0m \u001B[38;5;28;01mdef\u001B[39;00m \u001B[38;5;21mqa\u001B[39m(query, vector_search_top_k\u001B[38;5;241m=\u001B[39m\u001B[38;5;241m5\u001B[39m):\n\u001B[1;32m     11\u001B[0m     collection \u001B[38;5;241m=\u001B[39m db[COLLECTION_NAME_CHUNK]\n\u001B[0;32m---> 12\u001B[0m     output, out \u001B[38;5;241m=\u001B[39m db\u001B[38;5;241m.\u001B[39mload(\u001B[38;5;124m\"\u001B[39m\u001B[38;5;124mmodel\u001B[39m\u001B[38;5;124m\"\u001B[39m,\u001B[38;5;124m\"\u001B[39m\u001B[38;5;124mllm\u001B[39m\u001B[38;5;124m\"\u001B[39m)\u001B[38;5;241m.\u001B[39mpredict(\n\u001B[1;32m     13\u001B[0m         query,\n\u001B[1;32m     14\u001B[0m         context\u001B[38;5;241m=\u001B[39mcollection\u001B[38;5;241m.\u001B[39mlike(\n\u001B[1;32m     15\u001B[0m             Document({CHUNK_OUTPUT_KEY: query}),\n\u001B[1;32m     16\u001B[0m             vector_index\u001B[38;5;241m=\u001B[39mVECTOR_INDEX_IDENTIFIER,\n\u001B[1;32m     17\u001B[0m             n\u001B[38;5;241m=\u001B[39mvector_search_top_k,\n\u001B[1;32m     18\u001B[0m         )\u001B[38;5;241m.\u001B[39mfind({}),\n\u001B[1;32m     19\u001B[0m         \u001B[38;5;66;03m# context_key=f\"{CHUNK_OUTPUT_KEY}.0.txt\",\u001B[39;00m\n\u001B[1;32m     20\u001B[0m     )\n\u001B[1;32m     21\u001B[0m     \u001B[38;5;28;01mif\u001B[39;00m out:\n\u001B[1;32m     22\u001B[0m         out \u001B[38;5;241m=\u001B[39m \u001B[38;5;28msorted\u001B[39m(out, key\u001B[38;5;241m=\u001B[39m\u001B[38;5;28;01mlambda\u001B[39;00m x: x[\u001B[38;5;124m'\u001B[39m\u001B[38;5;124mscore\u001B[39m\u001B[38;5;124m'\u001B[39m], reverse\u001B[38;5;241m=\u001B[39m\u001B[38;5;28;01mTrue\u001B[39;00m)\n",
      "\u001B[0;31mValueError\u001B[0m: too many values to unpack (expected 2)"
     ]
    }
   ],
   "execution_count": 221
  },
  {
   "metadata": {},
   "cell_type": "code",
   "outputs": [
    {
     "name": "stdout",
     "output_type": "stream",
     "text": [
      "2024-Sep-04 00:38:40.66| INFO     | localhost.localdomain| superduper.base.datalayer:905  | {}\n"
     ]
    },
    {
     "data": {
      "text/plain": [
       "Batches:   0%|          | 0/1 [00:00<?, ?it/s]"
      ],
      "application/vnd.jupyter.widget-view+json": {
       "version_major": 2,
       "version_minor": 0,
       "model_id": "ab42287aa06e4f4192cbafb37797efd2"
      }
     },
     "metadata": {},
     "output_type": "display_data"
    },
    {
     "name": "stdout",
     "output_type": "stream",
     "text": [
      "['Keys 10 to 12 on the left steering wheel keypad control the audio in the truck. Specifically:\\n\\n10 Mute\\n11 Reduce volume \\n12 Increase volume']\n"
     ]
    }
   ],
   "execution_count": 175,
   "source": [
    "rag = db.load(\"model\", 'rag')\n",
    "query= \"What is the function of keys 10 to 12 on the left steering wheel keypad?\"\n",
    "print(rag.predict(query))"
   ],
   "id": "f8526dac6009c075"
  },
  {
   "metadata": {},
   "cell_type": "markdown",
   "source": "## New QA Function",
   "id": "efe8f221d40557fc"
  },
  {
   "metadata": {
    "ExecuteTime": {
     "end_time": "2024-09-05T15:35:31.322446Z",
     "start_time": "2024-09-05T15:35:31.310244Z"
    }
   },
   "cell_type": "code",
   "source": [
    "from IPython.display import display\n",
    "import pandas as pd\n",
    "def qa(query):\n",
    "    output = rag.predict(query)\n",
    "    out = vector_search_model.predict(query=query)\n",
    "    if out:\n",
    "        out = sorted(out, key=lambda x: x[\"score\"], reverse=True)\n",
    "    page_messages = []\n",
    "    for source in out:\n",
    "        # chunk_data = source.outputs(\"elements\", \"chunk\")\n",
    "        chunk_data = source['text'] # upstream_listener.outputs_key\n",
    "        metadata = chunk_data[\"metadata\"]\n",
    "        page_number = metadata[\"page_number\"]\n",
    "        points = metadata[\"points\"]\n",
    "        score = source[\"score\"]\n",
    "        page_messages.append(\n",
    "            {\"page_number\": page_number, \"points\": points, \"score\": score}\n",
    "        )\n",
    "    df = pd.DataFrame(page_messages)\n",
    "    display(output)\n",
    "    display(df)\n"
   ],
   "id": "5ffe640667710ca",
   "outputs": [],
   "execution_count": 226
  },
  {
   "metadata": {
    "ExecuteTime": {
     "end_time": "2024-09-05T15:35:35.894100Z",
     "start_time": "2024-09-05T15:35:34.150432Z"
    }
   },
   "cell_type": "code",
   "source": [
    "query= \"What is the function of keys 10 to 12 on the left steering wheel keypad?\"\n",
    "qa(query)"
   ],
   "id": "de346a86385a6a29",
   "outputs": [
    {
     "name": "stdout",
     "output_type": "stream",
     "text": [
      "2024-Sep-05 10:35:34.15| INFO     | localhost.localdomain| superduper.base.datalayer:905  | {}\n"
     ]
    },
    {
     "data": {
      "text/plain": [
       "Batches:   0%|          | 0/1 [00:00<?, ?it/s]"
      ],
      "application/vnd.jupyter.widget-view+json": {
       "version_major": 2,
       "version_minor": 0,
       "model_id": "8371c1b822eb41e1add598ac61212bc6"
      }
     },
     "metadata": {},
     "output_type": "display_data"
    },
    {
     "name": "stdout",
     "output_type": "stream",
     "text": [
      "2024-Sep-05 10:35:35.81| INFO     | localhost.localdomain| superduper.base.datalayer:905  | {}\n"
     ]
    },
    {
     "data": {
      "text/plain": [
       "Batches:   0%|          | 0/1 [00:00<?, ?it/s]"
      ],
      "application/vnd.jupyter.widget-view+json": {
       "version_major": 2,
       "version_minor": 0,
       "model_id": "49e43a8c66db4432b6f29d96dd681141"
      }
     },
     "metadata": {},
     "output_type": "display_data"
    },
    {
     "data": {
      "text/plain": [
       "['Keys 10 to 12 on the left steering wheel keypad control the audio in the truck. Specifically:\\n\\n10 Mute\\n11 Reduce volume \\n12 Increase volume']"
      ]
     },
     "metadata": {},
     "output_type": "display_data"
    },
    {
     "data": {
      "text/plain": [
       "   page_number                                      points     score\n",
       "0          267   {'x': 169.35586999999998, 'y': 225.92667}  0.830869\n",
       "1           88  {'x': 388.781385, 'y': 218.15015499999998}  0.798796\n",
       "2          267            {'x': 191.64962, 'y': 225.92667}  0.786558\n",
       "3           88  {'x': 379.85684499999996, 'y': 198.238195}  0.785021\n",
       "4           89   {'x': 210.55261000000002, 'y': 225.92667}  0.776941"
      ],
      "text/html": [
       "<div>\n",
       "<style scoped>\n",
       "    .dataframe tbody tr th:only-of-type {\n",
       "        vertical-align: middle;\n",
       "    }\n",
       "\n",
       "    .dataframe tbody tr th {\n",
       "        vertical-align: top;\n",
       "    }\n",
       "\n",
       "    .dataframe thead th {\n",
       "        text-align: right;\n",
       "    }\n",
       "</style>\n",
       "<table border=\"1\" class=\"dataframe\">\n",
       "  <thead>\n",
       "    <tr style=\"text-align: right;\">\n",
       "      <th></th>\n",
       "      <th>page_number</th>\n",
       "      <th>points</th>\n",
       "      <th>score</th>\n",
       "    </tr>\n",
       "  </thead>\n",
       "  <tbody>\n",
       "    <tr>\n",
       "      <th>0</th>\n",
       "      <td>267</td>\n",
       "      <td>{'x': 169.35586999999998, 'y': 225.92667}</td>\n",
       "      <td>0.830869</td>\n",
       "    </tr>\n",
       "    <tr>\n",
       "      <th>1</th>\n",
       "      <td>88</td>\n",
       "      <td>{'x': 388.781385, 'y': 218.15015499999998}</td>\n",
       "      <td>0.798796</td>\n",
       "    </tr>\n",
       "    <tr>\n",
       "      <th>2</th>\n",
       "      <td>267</td>\n",
       "      <td>{'x': 191.64962, 'y': 225.92667}</td>\n",
       "      <td>0.786558</td>\n",
       "    </tr>\n",
       "    <tr>\n",
       "      <th>3</th>\n",
       "      <td>88</td>\n",
       "      <td>{'x': 379.85684499999996, 'y': 198.238195}</td>\n",
       "      <td>0.785021</td>\n",
       "    </tr>\n",
       "    <tr>\n",
       "      <th>4</th>\n",
       "      <td>89</td>\n",
       "      <td>{'x': 210.55261000000002, 'y': 225.92667}</td>\n",
       "      <td>0.776941</td>\n",
       "    </tr>\n",
       "  </tbody>\n",
       "</table>\n",
       "</div>"
      ]
     },
     "metadata": {},
     "output_type": "display_data"
    }
   ],
   "execution_count": 227
  },
  {
   "metadata": {},
   "cell_type": "markdown",
   "source": "## Define a QA function",
   "id": "0370eb34-25fa-4d20-91a5-cea4b834df99"
  },
  {
   "cell_type": "code",
   "id": "0e7dd526-fb6f-4363-bdb4-25aac843e3e8",
   "metadata": {},
   "source": "qa(\"What is the function of keys 10 to 12 on the left steering wheel keypad?\")",
   "outputs": [],
   "execution_count": null
  }
 ],
 "metadata": {
  "kernelspec": {
   "display_name": "Python 3 (ipykernel)",
   "language": "python",
   "name": "python3"
  },
  "language_info": {
   "codemirror_mode": {
    "name": "ipython",
    "version": 3
   },
   "file_extension": ".py",
   "mimetype": "text/x-python",
   "name": "python",
   "nbconvert_exporter": "python",
   "pygments_lexer": "ipython3",
   "version": "3.10.13"
  }
 },
 "nbformat": 4,
 "nbformat_minor": 5
}
